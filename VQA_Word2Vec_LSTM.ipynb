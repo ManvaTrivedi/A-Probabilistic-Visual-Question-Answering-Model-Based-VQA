{
  "nbformat": 4,
  "nbformat_minor": 0,
  "metadata": {
    "colab": {
      "name": "VQA_Word2Vec_LSTM.ipynb",
      "provenance": [],
      "collapsed_sections": [],
      "toc_visible": true
    },
    "kernelspec": {
      "name": "python3",
      "display_name": "Python 3"
    },
    "language_info": {
      "name": "python"
    }
  },
  "cells": [
    {
      "cell_type": "markdown",
      "metadata": {
        "id": "_5oizv5z4Bbq"
      },
      "source": [
        "# **LSTM Model**"
      ]
    },
    {
      "cell_type": "code",
      "metadata": {
        "colab": {
          "base_uri": "https://localhost:8080/"
        },
        "id": "LeBnRuAN4GfS",
        "outputId": "b6d38924-c536-4a0f-86da-d9974702a4dd"
      },
      "source": [
        "#downloading load2vec model\n",
        "\n",
        "!python -m spacy download en_core_web_md\n"
      ],
      "execution_count": null,
      "outputs": [
        {
          "output_type": "stream",
          "text": [
            "Requirement already satisfied: en_core_web_md==2.2.5 from https://github.com/explosion/spacy-models/releases/download/en_core_web_md-2.2.5/en_core_web_md-2.2.5.tar.gz#egg=en_core_web_md==2.2.5 in /usr/local/lib/python3.7/dist-packages (2.2.5)\n",
            "Requirement already satisfied: spacy>=2.2.2 in /usr/local/lib/python3.7/dist-packages (from en_core_web_md==2.2.5) (2.2.4)\n",
            "Requirement already satisfied: cymem<2.1.0,>=2.0.2 in /usr/local/lib/python3.7/dist-packages (from spacy>=2.2.2->en_core_web_md==2.2.5) (2.0.5)\n",
            "Requirement already satisfied: requests<3.0.0,>=2.13.0 in /usr/local/lib/python3.7/dist-packages (from spacy>=2.2.2->en_core_web_md==2.2.5) (2.23.0)\n",
            "Requirement already satisfied: plac<1.2.0,>=0.9.6 in /usr/local/lib/python3.7/dist-packages (from spacy>=2.2.2->en_core_web_md==2.2.5) (1.1.3)\n",
            "Requirement already satisfied: wasabi<1.1.0,>=0.4.0 in /usr/local/lib/python3.7/dist-packages (from spacy>=2.2.2->en_core_web_md==2.2.5) (0.8.2)\n",
            "Requirement already satisfied: srsly<1.1.0,>=1.0.2 in /usr/local/lib/python3.7/dist-packages (from spacy>=2.2.2->en_core_web_md==2.2.5) (1.0.5)\n",
            "Requirement already satisfied: preshed<3.1.0,>=3.0.2 in /usr/local/lib/python3.7/dist-packages (from spacy>=2.2.2->en_core_web_md==2.2.5) (3.0.5)\n",
            "Requirement already satisfied: thinc==7.4.0 in /usr/local/lib/python3.7/dist-packages (from spacy>=2.2.2->en_core_web_md==2.2.5) (7.4.0)\n",
            "Requirement already satisfied: murmurhash<1.1.0,>=0.28.0 in /usr/local/lib/python3.7/dist-packages (from spacy>=2.2.2->en_core_web_md==2.2.5) (1.0.5)\n",
            "Requirement already satisfied: tqdm<5.0.0,>=4.38.0 in /usr/local/lib/python3.7/dist-packages (from spacy>=2.2.2->en_core_web_md==2.2.5) (4.41.1)\n",
            "Requirement already satisfied: setuptools in /usr/local/lib/python3.7/dist-packages (from spacy>=2.2.2->en_core_web_md==2.2.5) (54.2.0)\n",
            "Requirement already satisfied: numpy>=1.15.0 in /usr/local/lib/python3.7/dist-packages (from spacy>=2.2.2->en_core_web_md==2.2.5) (1.19.5)\n",
            "Requirement already satisfied: catalogue<1.1.0,>=0.0.7 in /usr/local/lib/python3.7/dist-packages (from spacy>=2.2.2->en_core_web_md==2.2.5) (1.0.0)\n",
            "Requirement already satisfied: blis<0.5.0,>=0.4.0 in /usr/local/lib/python3.7/dist-packages (from spacy>=2.2.2->en_core_web_md==2.2.5) (0.4.1)\n",
            "Requirement already satisfied: idna<3,>=2.5 in /usr/local/lib/python3.7/dist-packages (from requests<3.0.0,>=2.13.0->spacy>=2.2.2->en_core_web_md==2.2.5) (2.10)\n",
            "Requirement already satisfied: urllib3!=1.25.0,!=1.25.1,<1.26,>=1.21.1 in /usr/local/lib/python3.7/dist-packages (from requests<3.0.0,>=2.13.0->spacy>=2.2.2->en_core_web_md==2.2.5) (1.24.3)\n",
            "Requirement already satisfied: certifi>=2017.4.17 in /usr/local/lib/python3.7/dist-packages (from requests<3.0.0,>=2.13.0->spacy>=2.2.2->en_core_web_md==2.2.5) (2020.12.5)\n",
            "Requirement already satisfied: chardet<4,>=3.0.2 in /usr/local/lib/python3.7/dist-packages (from requests<3.0.0,>=2.13.0->spacy>=2.2.2->en_core_web_md==2.2.5) (3.0.4)\n",
            "Requirement already satisfied: importlib-metadata>=0.20; python_version < \"3.8\" in /usr/local/lib/python3.7/dist-packages (from catalogue<1.1.0,>=0.0.7->spacy>=2.2.2->en_core_web_md==2.2.5) (3.8.1)\n",
            "Requirement already satisfied: zipp>=0.5 in /usr/local/lib/python3.7/dist-packages (from importlib-metadata>=0.20; python_version < \"3.8\"->catalogue<1.1.0,>=0.0.7->spacy>=2.2.2->en_core_web_md==2.2.5) (3.4.1)\n",
            "Requirement already satisfied: typing-extensions>=3.6.4; python_version < \"3.8\" in /usr/local/lib/python3.7/dist-packages (from importlib-metadata>=0.20; python_version < \"3.8\"->catalogue<1.1.0,>=0.0.7->spacy>=2.2.2->en_core_web_md==2.2.5) (3.7.4.3)\n",
            "\u001b[38;5;2m✔ Download and installation successful\u001b[0m\n",
            "You can now load the model via spacy.load('en_core_web_md')\n"
          ],
          "name": "stdout"
        }
      ]
    },
    {
      "cell_type": "code",
      "metadata": {
        "colab": {
          "base_uri": "https://localhost:8080/"
        },
        "id": "LrGPpm9JQxPu",
        "outputId": "a36d3a80-8a85-47a5-cdc2-fc86bcff3cd0"
      },
      "source": [
        "# importing spacy library and loading word2vec model\n",
        "\n",
        "import en_core_web_md\n",
        "nlp = en_core_web_md.load()\n",
        "print (\"Loaded WordVec\")\n",
        "\n",
        "# mounting the drive to access image features\n",
        "\n",
        "from google.colab import drive\n",
        "drive.mount('/content/drive')\n",
        "# %cd drive/My\\ Drive/vqa       \n",
        "# !ls"
      ],
      "execution_count": null,
      "outputs": [
        {
          "output_type": "stream",
          "text": [
            "Loaded WordVec\n",
            "Drive already mounted at /content/drive; to attempt to forcibly remount, call drive.mount(\"/content/drive\", force_remount=True).\n"
          ],
          "name": "stdout"
        }
      ]
    },
    {
      "cell_type": "code",
      "metadata": {
        "id": "2Y0orkibQxSd"
      },
      "source": [
        "import sys, warnings\n",
        "warnings.filterwarnings(\"ignore\")\n",
        "from random import shuffle, sample\n",
        "import pickle as pk\n",
        "import gc\n",
        "import operator\n",
        "from collections import defaultdict\n",
        "from itertools import zip_longest\n",
        "import tensorflow as tf\n",
        "import numpy as np\n",
        "import pandas as pd\n",
        "import scipy.io\n",
        "from sklearn.preprocessing import LabelEncoder\n",
        "import spacy\n",
        "from keras.optimizers import Adam"
      ],
      "execution_count": null,
      "outputs": []
    },
    {
      "cell_type": "code",
      "metadata": {
        "id": "pl1kh7kCQxV4"
      },
      "source": [
        "def most_frequent_ans(training_questions, answer_train, images_train, upper_lim):\n",
        "    # Based on the treshold limit, this function returns tuple of lists of filtered questions, answers and imageIDs.\n",
        "    # It filters out the samples based on the frequency of occurance of the answer.\n",
        "    # Parameters:\n",
        "    # training_questions = training questions, answers_train = corresponding training answers,\n",
        "    # images_train = corresponding training imageIDs, upper_lim = number of answers/classes\n",
        "\n",
        "    freq_ans = defaultdict(int)\n",
        "    for ans in answer_train:\n",
        "        freq_ans[ans] += 1\n",
        "\n",
        "    sort_freq = sorted(freq_ans.items(), key=operator.itemgetter(1), reverse=True)[0:upper_lim]\n",
        "    top_ans, top_freq = zip(*sort_freq)\n",
        "    new_answers_train = list()\n",
        "    new_questions_train = list()\n",
        "    new_images_train = list()\n",
        "    for ans, ques, img in zip(answer_train, training_questions, images_train):\n",
        "        if ans in top_ans:\n",
        "            new_answers_train.append(ans)\n",
        "            new_questions_train.append(ques)\n",
        "            new_images_train.append(img)\n",
        "\n",
        "    return (new_questions_train, new_answers_train, new_images_train)\n",
        "\n",
        "def grouped(iterable, n, fillvalue=None):\n",
        "    # Groups the samples accorading to batch size and returns a zip object\n",
        "    # Parameters:\n",
        "    # iterable = samples to group, n = batch size, fillvalue = to fill empty values with\n",
        "    \n",
        "    args = [iter(iterable)] * n\n",
        "    return zip_longest(*args, fillvalue=fillvalue)\n",
        "\n",
        "def fetch_sum_of_answers(answers, encoder):\n",
        "    # Converts a class vector (integers) to binary class matrix and returns tensorflow object\n",
        "    # Parameters:\n",
        "    # answers = answers in string literals, encoder = a scikit-learn LabelEncoder object\n",
        "    \n",
        "    assert not isinstance(answers, str)\n",
        "    y = encoder.transform(answers)\n",
        "    nb_classes = encoder.classes_.shape[0]\n",
        "    Y = tf.keras.utils.to_categorical(y, nb_classes)\n",
        "    return Y"
      ],
      "execution_count": null,
      "outputs": []
    },
    {
      "cell_type": "code",
      "metadata": {
        "id": "C4ujOavkQ9aD"
      },
      "source": [
        "# Loading the training image feature pickle file\n",
        "import pickle as pk\n",
        "pkl_file = open('/content/drive/MyDrive/VQA/image_features.pkl', 'rb')\n",
        "features= pk.load(pkl_file)"
      ],
      "execution_count": null,
      "outputs": []
    },
    {
      "cell_type": "code",
      "metadata": {
        "id": "ZCCCzjuzQ9c4"
      },
      "source": [
        "# Loading the testing image features pickle file\n",
        "pkl_file_val = open('/content/drive/MyDrive/VQA/image_features_val.pkl', 'rb')\n",
        "features_val = pk.load(pkl_file_val)"
      ],
      "execution_count": null,
      "outputs": []
    },
    {
      "cell_type": "code",
      "metadata": {
        "id": "irdb4_NBQ9fz"
      },
      "source": [
        "def fetch_image_matrix_trian(img_list):\n",
        "  # Gets the 4096-dimensional CNN features for the given imageID and returns a numpy array of size (nb_samples, nb_dimensions)\n",
        "  # Parameters:\n",
        "  # img_list = list of imageIDs\n",
        "\n",
        "\timage_matrix = np.zeros((len(img_list), 4096))\n",
        "\tindex = 0\n",
        "\tfor id in img_list:\n",
        "\t\timage_matrix[index] = features['%012d' %(int(id))]\n",
        "\t\tindex = index + 1\n",
        "\treturn image_matrix\n",
        "\n",
        "def fetch_image_matrix_val(img_list):\n",
        "\t\n",
        "\t# Gets the 4096-dimensional CNN features for the given imageID and returns a numpy array of size (nb_samples, nb_dimensions)\n",
        "\t# Parameters:\n",
        "\t# img_list = list of imageIDs\n",
        "\n",
        "\timage_matrix = np.zeros((len(img_list), 4096))\n",
        "\tindex = 0\n",
        "\tfor id in img_list:\n",
        "\t\timage_matrix[index] = features_val['%012d' %(int(id))]\n",
        "\t\tindex = index + 1\n",
        "\treturn image_matrix\n",
        "\n",
        "def get_answers_matrix(answers, encoder):\n",
        "\t# Converts string objects to class labels and returns numpy array of shape (nb_samples, nb_classes)\n",
        "\t# Parameters:\n",
        "  # answers = asnwers in string format\n",
        "  # encoder = a scikit-learn LabelEncoder object\n",
        "\n",
        "\tassert not isinstance(answers, str)\n",
        "\ty = encoder.transform(answers) #string to numerical class\n",
        "\tnb_classes = encoder.classes_.shape[0]\n",
        "\tY = np_utils.to_categorical(y, nb_classes)\n",
        "\treturn Y\n",
        "\n",
        "def get_questions_tensor_timeseries(questions, nlp, timesteps):\n",
        "\t# Returns a time series of word vectors for tokens in the question as a numpy ndarray of shape: (nb_samples, timesteps, word_vec_dim)\n",
        "\t# Parameters:\n",
        "\t# questions = questions, nlp = word2vec model, timesteps = uniform length of question\n",
        "\t\n",
        "\tassert not isinstance(questions, str)\n",
        "\tnb_samples = len(questions)\n",
        "\tword_vec_dim = nlp(questions[0])[0].vector.shape[0]\n",
        "\tquestions_tensor = np.zeros((nb_samples, timesteps, word_vec_dim))\n",
        "\tfor i in range(len(questions)):\n",
        "\t\ttokens = nlp(questions[i])\n",
        "\t\tfor j in range(len(tokens)):\n",
        "\t\t\tif j<timesteps:\n",
        "\t\t\t\tquestions_tensor[i,j,:] = tokens[j].vector\n",
        "\treturn questions_tensor"
      ],
      "execution_count": null,
      "outputs": []
    },
    {
      "cell_type": "code",
      "metadata": {
        "colab": {
          "base_uri": "https://localhost:8080/"
        },
        "id": "fdVrguHoQ9jK",
        "outputId": "ff3c6fd7-57ef-47ee-c14c-146e2744a81d"
      },
      "source": [
        "#Loading dataset and necessary files\n",
        "\n",
        "training_questions     = open(\"/content/drive/MyDrive/VQA/ques_train.txt\",\"rb\").read().decode('utf8').splitlines()\n",
        "training_questions_len = open(\"/content/drive/MyDrive/VQA/ques_train_len.txt\",\"rb\").read().decode('utf8').splitlines()\n",
        "answers_train          = open(\"/content/drive/MyDrive/VQA/answer_train.txt\",\"rb\").read().decode('utf8').splitlines()\n",
        "images_train           = open(\"/content/drive/MyDrive/VQA/images_id.txt\",\"rb\").read().decode('utf8').splitlines()\n",
        "img_ids                = open('/content/drive/MyDrive/VQA/vgg_IDMap.txt').read().splitlines()\n",
        "\n",
        "sample(list(zip(images_train, training_questions, answers_train)), 5)"
      ],
      "execution_count": null,
      "outputs": [
        {
          "output_type": "execute_result",
          "data": {
            "text/plain": [
              "[('163331', 'What sport is the athlete playing?', 'tennis'),\n",
              " ('94807', 'How is the pattern on his shirt?', 'plaid'),\n",
              " ('416776', 'What is on top of the pasta?', 'cheese'),\n",
              " ('4891',\n",
              "  'What is the purpose of the vehicle nearest the jet the photo was taken from?',\n",
              "  'baggage'),\n",
              " ('389793', 'What kind of flowers are those?', 'lilies')]"
            ]
          },
          "metadata": {
            "tags": []
          },
          "execution_count": 8
        }
      ]
    },
    {
      "cell_type": "code",
      "metadata": {
        "colab": {
          "base_uri": "https://localhost:8080/"
        },
        "id": "cuG9zXfcRJDu",
        "outputId": "6f33e9e5-476a-4357-c7d8-869cbd2c497a"
      },
      "source": [
        "# Garbage collection\n",
        "gc.collect()"
      ],
      "execution_count": null,
      "outputs": [
        {
          "output_type": "execute_result",
          "data": {
            "text/plain": [
              "50"
            ]
          },
          "metadata": {
            "tags": []
          },
          "execution_count": 9
        }
      ]
    },
    {
      "cell_type": "code",
      "metadata": {
        "colab": {
          "base_uri": "https://localhost:8080/"
        },
        "id": "o2-kyw4bQhde",
        "outputId": "1963046d-2e9e-4ae2-f58c-9b2d8184b2db"
      },
      "source": [
        "# Filtering the training dataset based on the number of classes and its frequency of occurance\n",
        "\n",
        "upper_lim = 1000 \n",
        "print (len(training_questions), len(answers_train),len(images_train))\n",
        "training_questions, answers_train, images_train = most_frequent_ans(training_questions, answers_train, images_train, upper_lim)\n",
        "training_questions_len, training_questions, answers_train, images_train = (list(t) for t in zip(*sorted(zip(training_questions_len, \n",
        "                                                                                                          training_questions, answers_train, \n",
        "                                                                                                          images_train))))\n",
        "print (len(training_questions), len(answers_train),len(images_train))\n",
        "\n",
        "# Getting unique answers and storing them in .sav file\n",
        "\n",
        "lbl = LabelEncoder()\n",
        "lbl.fit(answers_train)\n",
        "nb_classes = len(list(lbl.classes_))\n",
        "print(nb_classes)\n",
        "pk.dump(lbl, open('/content/drive/MyDrive/VQA/label_encoder_lstm.sav','wb'))\n",
        "\n",
        "\n",
        "# Hyperparameter tuning and model configurations\n",
        "\n",
        "batch_size               =      128\n",
        "img_dim                  =     4096\n",
        "word2vec_dim             =      300\n",
        "num_hidden_nodes_mlp     =     1024\n",
        "num_hidden_nodes_lstm    =      512\n",
        "num_layers_mlp           =        3\n",
        "num_layers_lstm          =        3\n",
        "dropout                  =       0.3\n",
        "activation_mlp           =     'tanh'\n",
        "num_epochs               =      4\n",
        "\n",
        "# Building the image model\n",
        "\n",
        "image_model = tf.keras.Sequential([tf.keras.layers.Reshape(input_shape = (img_dim,), target_shape=(img_dim,), name='Feeding_image_vectors_size_4096')], name='Image_Model')\n",
        "image_model.add(tf.keras.layers.Dense(num_hidden_nodes_mlp, kernel_initializer='uniform', name = 'Image_MLP_Hidden_layer_size_1024'))\n",
        "image_model.add(tf.keras.layers.Activation('tanh', name='Image_MLP_Activation_tanh'))\n",
        "image_model.add(tf.keras.layers.Dropout(0.5, name='Image_MLP_Dropout_0.5'))\n",
        "image_model.summary()\n",
        "\n",
        "# Building the question model\n",
        "\n",
        "language_model = tf.keras.Sequential([tf.keras.layers.LSTM(num_hidden_nodes_lstm,return_sequences=True, input_shape=(None, word2vec_dim), name='Feeding_question_vectors_to_LSTM_Layer_1'),\n",
        "                                      tf.keras.layers.LSTM(num_hidden_nodes_lstm, return_sequences=True, name='LSTM_layer_2')\n",
        "                                      ,tf.keras.layers.LSTM(num_hidden_nodes_lstm, return_sequences=False, name='LSTM_layer_3')\n",
        "                                      ], name = 'Language_Model')\n",
        "language_model.add(tf.keras.layers.Dense(num_hidden_nodes_mlp, kernel_initializer='uniform', name = 'Question_MLP_Hidden_layer_size_1024'))\n",
        "language_model.add(tf.keras.layers.Activation('tanh', name='Question_MLP_Activation_tanh'))\n",
        "language_model.add(tf.keras.layers.Dropout(0.5, name='Question_MLP_Dropout_0.5'))\n",
        "\n",
        "language_model.summary()\n",
        "\n",
        "# Concatenating image model and question model to build the final model\n",
        "\n",
        "upper_lim = 1000 #  \n",
        "\n",
        "merged=tf.keras.layers.concatenate([language_model.output,image_model.output], axis =-1, name='Merging_language_model_and_image_model')\n",
        "\n",
        "model =tf.keras.Sequential(name='CNN_LSTM_Model')(merged)\n",
        "model = tf.keras.layers.Dense(num_hidden_nodes_mlp, kernel_initializer='uniform', name = 'Combined_MLP_Hidden_layer_size_1024')(model)\n",
        "model = tf.keras.layers.Activation('tanh', name='Combined_MLP_Activation_tanh')(model)\n",
        "model = tf.keras.layers.Dropout(0.5, name='Combined_MLP_Dropout_0.5')(model)\n",
        "model = tf.keras.layers.Dense(upper_lim, name='Fully_Connected_Output_layer_size_1000')(model)\n",
        "out =   tf.keras.layers.Activation(\"softmax\", name='Softmax_Output_Probablities')(model)\n",
        "model = tf.keras.Model([language_model.input, image_model.input], out, name='LSTM_CNN_Model')\n",
        "\n",
        "# Compiling the model\n",
        "\n",
        "model.load_weights('/content/drive/MyDrive/VQA/Weights_Adam/LSTM_1000classes_epoch_16.hdf5')\n",
        "model.compile(loss='categorical_crossentropy', optimizer=Adam(lr=0.001),metrics=['acc'])\n",
        "#tf.keras.utils.plot_model(model, to_file='CNN_LSTM_model_v2.png')"
      ],
      "execution_count": null,
      "outputs": [
        {
          "output_type": "stream",
          "text": [
            "248349 248349 248349\n",
            "215407 215407 215407\n",
            "1000\n",
            "Model: \"Image_Model\"\n",
            "_________________________________________________________________\n",
            "Layer (type)                 Output Shape              Param #   \n",
            "=================================================================\n",
            "Feeding_image_vectors_size_4 (None, 4096)              0         \n",
            "_________________________________________________________________\n",
            "Image_MLP_Hidden_layer_size_ (None, 1024)              4195328   \n",
            "_________________________________________________________________\n",
            "Image_MLP_Activation_tanh (A (None, 1024)              0         \n",
            "_________________________________________________________________\n",
            "Image_MLP_Dropout_0.5 (Dropo (None, 1024)              0         \n",
            "=================================================================\n",
            "Total params: 4,195,328\n",
            "Trainable params: 4,195,328\n",
            "Non-trainable params: 0\n",
            "_________________________________________________________________\n",
            "Model: \"Language_Model\"\n",
            "_________________________________________________________________\n",
            "Layer (type)                 Output Shape              Param #   \n",
            "=================================================================\n",
            "Feeding_question_vectors_to_ (None, None, 512)         1665024   \n",
            "_________________________________________________________________\n",
            "LSTM_layer_2 (LSTM)          (None, None, 512)         2099200   \n",
            "_________________________________________________________________\n",
            "LSTM_layer_3 (LSTM)          (None, 512)               2099200   \n",
            "_________________________________________________________________\n",
            "Question_MLP_Hidden_layer_si (None, 1024)              525312    \n",
            "_________________________________________________________________\n",
            "Question_MLP_Activation_tanh (None, 1024)              0         \n",
            "_________________________________________________________________\n",
            "Question_MLP_Dropout_0.5 (Dr (None, 1024)              0         \n",
            "=================================================================\n",
            "Total params: 6,388,736\n",
            "Trainable params: 6,388,736\n",
            "Non-trainable params: 0\n",
            "_________________________________________________________________\n"
          ],
          "name": "stdout"
        }
      ]
    },
    {
      "cell_type": "markdown",
      "metadata": {
        "id": "H9iUwt_EMfoL"
      },
      "source": [
        "# **----------Training starts here----------**"
      ]
    },
    {
      "cell_type": "code",
      "metadata": {
        "colab": {
          "base_uri": "https://localhost:8080/"
        },
        "id": "LqWPRAZb4KyC",
        "outputId": "c443d658-5acc-4aea-81c9-14b5bfbce84b"
      },
      "source": [
        "loss_epoch = []\n",
        "accuracy_epoch = []\n",
        "\n",
        "for k in range(num_epochs):\n",
        "    loss_per_epoch = 0\n",
        "    acc_per_epoch=0\n",
        "    progbar = tf.keras.utils.Progbar(len(training_questions))\n",
        "\n",
        "    index_shuffle = list(range(len(training_questions)))\n",
        "    shuffle(index_shuffle)\n",
        "    training_questions = [training_questions[i] for i in index_shuffle]\n",
        "    answers_train = [answers_train[i] for i in index_shuffle]\n",
        "    images_train = [images_train[i] for i in index_shuffle]\n",
        "\n",
        "    for ques_batch, ans_batch, im_batch in zip(grouped(training_questions, batch_size, \n",
        "                                                       fillvalue=training_questions[-1]), \n",
        "                                               grouped(answers_train, batch_size, \n",
        "                                                       fillvalue=answers_train[-1]), \n",
        "                                               grouped(images_train, batch_size, fillvalue=images_train[-1])):\n",
        "        timestep = len(nlp(ques_batch[-1]))\n",
        "        X_ques_batch = get_questions_tensor_timeseries(ques_batch, nlp, timestep)\n",
        "        X_ques_batch = np.array(X_ques_batch)\n",
        "        X_img_batch = fetch_image_matrix_trian(im_batch)\n",
        "        X_img_batch = np.array(X_img_batch) \n",
        "        Y_batch = fetch_sum_of_answers(ans_batch, lbl)\n",
        "        Y_batch = np.array(Y_batch)\n",
        "        loss = model.train_on_batch([X_ques_batch, X_img_batch], Y_batch)\n",
        "   \n",
        "        loss_per_epoch = loss_per_epoch + loss[0]\n",
        "        acc_per_epoch=acc_per_epoch + loss[1]\n",
        "     \n",
        "        progbar.add(batch_size, values=[('train loss', loss[0]), ('train acc',loss[1]),('epoch', k)]) \n",
        "        \n",
        "    if k%1 == 0:\n",
        "        model.save_weights(\"LSTM_1000classes\" + \"_epoch_{:02d}.hdf5\".format(k))\n",
        "\n",
        "    loss_epoch.append(loss_per_epoch)\n",
        "    np.save('loss.npy', np.array(loss_epoch))\n",
        "    accuracy_epoch.append(acc_per_epoch)\n",
        "    np.save('accuracy.npy', np.array(accuracy_epoch))\n",
        "\n",
        "model.save_weights(\"LSTM_1000classes\" + \"_epoch_{:02d}.hdf5\".format(k))"
      ],
      "execution_count": null,
      "outputs": [
        {
          "output_type": "stream",
          "text": [
            "215424/215407 [==============================] - 3747s 17ms/step - train loss: 2.1853 - train acc: 0.4791 - epoch: 0.0000e+00\n",
            "215424/215407 [==============================] - 3716s 17ms/step - train loss: 2.1665 - train acc: 0.4834 - epoch: 1.0000\n",
            "215424/215407 [==============================] - 3685s 17ms/step - train loss: 2.1567 - train acc: 0.4873 - epoch: 2.0000\n",
            "215424/215407 [==============================] - 3727s 17ms/step - train loss: 2.1459 - train acc: 0.4904 - epoch: 3.0000\n",
            "215424/215407 [==============================] - 3712s 17ms/step - train loss: 2.1329 - train acc: 0.4954 - epoch: 4.0000\n"
          ],
          "name": "stdout"
        }
      ]
    },
    {
      "cell_type": "code",
      "metadata": {
        "colab": {
          "base_uri": "https://localhost:8080/"
        },
        "id": "QSJkBFaa4K19",
        "outputId": "1f0bf1e1-f49d-4253-daee-bb972addb77c"
      },
      "source": [
        "# Loading the weights and compiling the model to test\n",
        "\n",
        "model.load_weights('LSTM_1000classes_epoch_03.hdf5') \n",
        "model.compile(loss='categorical_crossentropy', optimizer=Adam(lr=0.001),metrics=['acc'])\n",
        "\n",
        "print (\"Model Loaded with Weights\")\n",
        "\n",
        "# Loading the testing dataset and related files\n",
        "\n",
        "val_imgs = open('/content/drive/MyDrive/VQA/val_images_id.txt','rb').read().decode('utf-8').splitlines()\n",
        "val_ques = open('/content/drive/MyDrive/VQA/ques_val.txt','rb').read().decode('utf-8').splitlines()\n",
        "val_ans  = open('/content/drive/MyDrive/VQA/answer_val.txt','rb').read().decode('utf-8').splitlines()\n",
        "print (len(val_ques), len(val_imgs),len(val_ans))\n",
        "\n",
        "# Filtering the testing dataset based on the number of answers and its frequency of occurance\n",
        "\n",
        "upper_lim = 1000 \n",
        "val_ques, val_ans, val_imgs = most_frequent_ans(val_ques, val_ans, val_imgs, upper_lim)\n",
        "print (len(val_ques), len(val_imgs),len(val_ans))\n",
        "\n",
        "# Loading the label encoder for classes\n",
        "\n",
        "label_encoder = pk.load(open('/content/drive/MyDrive/VQA/label_encoder_lstm.sav','rb'))\n"
      ],
      "execution_count": null,
      "outputs": [
        {
          "output_type": "stream",
          "text": [
            "Model Loaded with Weights\n",
            "121512 121512 121512\n",
            "105175 105175 105175\n"
          ],
          "name": "stdout"
        }
      ]
    },
    {
      "cell_type": "markdown",
      "metadata": {
        "id": "JLdMzE3DMTwx"
      },
      "source": [
        "# **----------Testing starts here----------**"
      ]
    },
    {
      "cell_type": "code",
      "metadata": {
        "colab": {
          "base_uri": "https://localhost:8080/",
          "height": 395
        },
        "id": "y3YKJ3mHMPMd",
        "outputId": "5cd79529-760f-4cda-a422-703fd7fcd017"
      },
      "source": [
        "y_pred = []\n",
        "batch_size = 128 \n",
        "progbar = tf.keras.utils.Progbar(len(val_ques))\n",
        "for qu_batch,an_batch,im_batch in zip(grouped(val_ques, batch_size, \n",
        "                                                   fillvalue=val_ques[0]), \n",
        "                                           grouped(val_ans, batch_size, \n",
        "                                                   fillvalue=val_ans[0]), \n",
        "                                           grouped(val_imgs, batch_size, \n",
        "                                                   fillvalue=val_imgs[0])):\n",
        "    timesteps = len(nlp(qu_batch[-1]))\n",
        "    X_ques_batch = get_questions_tensor_timeseries(qu_batch, nlp, timesteps)\n",
        "\n",
        "    X_i_batch = fetch_image_matrix_val(im_batch)\n",
        "    \n",
        "    X_batch = [X_ques_batch, X_i_batch]\n",
        "    y_predict = model.predict(X_batch, verbose=0)\n",
        "    y_predict = np.argmax(y_predict,axis=1)\n",
        "    y_pred.extend(label_encoder.inverse_transform(y_predict))\n",
        "    progbar.add(batch_size)\n",
        "\n",
        "# Calculating the accuracy and saving the results in a text file\n",
        "\n",
        "correct_val = 0.0\n",
        "total = 0 \n",
        "\n",
        "correct_total = 0.0\n",
        "total = 0.0\n",
        "\n",
        "correct_yes_or_no = 0.0\n",
        "total_yes_or_no = 0.0\n",
        "\n",
        "correct_number = 0.0\n",
        "total_number = 0.0\n",
        "\n",
        "correct_other = 0.0\n",
        "total_other = 0.0\n",
        "\n",
        "f1 = open('res_v2_lstm_cnn_1000classes_70epoch.txt','w') \n",
        "\n",
        "for pred, truth, ques, img in zip(y_pred, val_ans, val_ques, val_imgs):\n",
        "    t_count = 0\n",
        "    for _truth in truth.split(';'):\n",
        "        if pred == truth:\n",
        "            t_count += 1 \n",
        "    if t_count >=1:\n",
        "        correct_val +=1\n",
        "    else:\n",
        "        correct_val += float(t_count)/3\n",
        "\n",
        "    total +=1\n",
        "\n",
        "    if truth == 'yes' or truth == 'no':\n",
        "      if pred == truth:\n",
        "        correct_yes_or_no += 1\n",
        "      total_yes_or_no += 1\n",
        "    \n",
        "    if truth.isnumeric():\n",
        "      if pred == truth:\n",
        "        correct_number += 1\n",
        "      total_number += 1\n",
        "    \n",
        "    else:\n",
        "      if pred == truth:\n",
        "        correct_other += 1\n",
        "      total_other += 1\n",
        "\n",
        "    try:\n",
        "        f1.write(str(ques))\n",
        "        f1.write('\\n')\n",
        "        f1.write(str(img))\n",
        "        f1.write('\\n')\n",
        "        f1.write(str(pred))\n",
        "        f1.write('\\n')\n",
        "        f1.write(str(truth))\n",
        "        f1.write('\\n')\n",
        "        f1.write('\\n')\n",
        "    except:\n",
        "        pass\n",
        "\n",
        "print('Final Accuracy is ' + str(correct_val/total))\n",
        "print('Yes or no Accuracy is ' + str(correct_yes_or_no/total_yes_or_no))\n",
        "print('Number Accuracy is ' + str(correct_number/total_number))\n",
        "print('Other Accuracy is ' + str(correct_other/total_other))\n",
        "\n",
        "f1.write('Final Accuracy is ' + str(correct_val/total))\n",
        "f1.write('\\n')\n",
        "f1.write('Yes or no Accuracy is ' + str(correct_yes_or_no/total_yes_or_no))\n",
        "f1.write('\\n')\n",
        "f1.write('Number Accuracy is ' + str(correct_number/total_number))\n",
        "f1.write('\\n')\n",
        "f1.write('Other Accuracy is ' + str(correct_other/total_other))\n",
        "f1.write('\\n')\n",
        "\n",
        "f1.close()\n",
        "\n",
        "import matplotlib.pyplot as plt\n",
        "import matplotlib.patches as mpatches\n",
        "\n",
        "# Loading the saved loss\n",
        "\n",
        "# loss1 = np.load('loss_1.npy').tolist()\n",
        "# loss18 = np.load('loss_18.npy').tolist()[1:]\n",
        "# loss36 = np.load('loss_36.npy').tolist()[1:]\n",
        "# loss54 = np.load('loss_54.npy').tolist()[1:]\n",
        "# # loss78 = np.load('weights_plot/loss_78.npy').tolist()\n",
        "\n",
        "# loss = loss1 + loss18 + loss36 + loss54 \n",
        "\n",
        "loss = np.load('loss.npy').tolist()\n",
        "acc = np.load('accuracy.npy').tolist()\n",
        "\n",
        "# Plotting the loss vs epoch graph\n",
        "\n",
        "e = np.arange(1, len(acc)+1, 1)\n",
        "\n",
        "plt.plot(e, acc)\n",
        "plt.xlabel('epoch')\n",
        "plt.ylabel('accuracy per epoch')\n",
        "plt.title('accuracy vs epoch')\n",
        "\n",
        "patch4 = mpatches.Patch(color = 'white',label='Model: CNN + LSTM')\n",
        "patch = mpatches.Patch(color = 'white',label='learning rate: 0.001')\n",
        "patch2 = mpatches.Patch(color = 'white',label='optimizer: Adam') \n",
        "patch3 = mpatches.Patch(color = 'white',label='No. of training samples: 215407')\n",
        "\n",
        "plt.legend(handles=[patch4,patch, patch2,patch3])\n",
        "plt.show()\n",
        "plt.savefig('CNN_LSTM_LOSS')"
      ],
      "execution_count": null,
      "outputs": [
        {
          "output_type": "stream",
          "text": [
            "105216/105175 [==============================] - 1361s 13ms/step\n",
            "Final Accuracy is 0.47860232945091513\n",
            "Yes or no Accuracy is 0.6708783147568266\n",
            "Number Accuracy is 0.2917737789203085\n",
            "Other Accuracy is 0.505475861618941\n"
          ],
          "name": "stdout"
        },
        {
          "output_type": "display_data",
          "data": {
            "image/png": "[encoded data removed]",
            "text/plain": [
              "<Figure size 432x288 with 1 Axes>"
            ]
          },
          "metadata": {
            "tags": [],
            "needs_background": "light"
          }
        },
        {
          "output_type": "display_data",
          "data": {
            "text/plain": [
              "<Figure size 432x288 with 0 Axes>"
            ]
          },
          "metadata": {
            "tags": []
          }
        }
      ]
    },
    {
      "cell_type": "code",
      "metadata": {
        "id": "udbOZqci4s2q"
      },
      "source": [
        ""
      ],
      "execution_count": null,
      "outputs": []
    }
  ]
}